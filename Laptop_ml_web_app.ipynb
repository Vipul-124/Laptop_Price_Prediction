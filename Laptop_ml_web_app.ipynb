{
 "cells": [
  {
   "cell_type": "markdown",
   "id": "f8949cb3",
   "metadata": {},
   "source": [
    "### Import the Libraries"
   ]
  },
  {
   "cell_type": "code",
   "execution_count": 1,
   "id": "4e0b6520",
   "metadata": {},
   "outputs": [],
   "source": [
    "import numpy as np\n",
    "import pandas as pd\n",
    "import matplotlib.pyplot as plt\n",
    "import seaborn as sns"
   ]
  },
  {
   "cell_type": "code",
   "execution_count": 2,
   "id": "0b35a677",
   "metadata": {},
   "outputs": [
    {
     "name": "stdout",
     "output_type": "stream",
     "text": [
      "(1302, 13)\n",
      "<class 'pandas.core.frame.DataFrame'>\n"
     ]
    },
    {
     "data": {
      "text/html": [
       "<div>\n",
       "<style scoped>\n",
       "    .dataframe tbody tr th:only-of-type {\n",
       "        vertical-align: middle;\n",
       "    }\n",
       "\n",
       "    .dataframe tbody tr th {\n",
       "        vertical-align: top;\n",
       "    }\n",
       "\n",
       "    .dataframe thead th {\n",
       "        text-align: right;\n",
       "    }\n",
       "</style>\n",
       "<table border=\"1\" class=\"dataframe\">\n",
       "  <thead>\n",
       "    <tr style=\"text-align: right;\">\n",
       "      <th></th>\n",
       "      <th>Unnamed: 0</th>\n",
       "      <th>Company</th>\n",
       "      <th>TypeName</th>\n",
       "      <th>Ram</th>\n",
       "      <th>Weight</th>\n",
       "      <th>Price</th>\n",
       "      <th>Touchscreen</th>\n",
       "      <th>Ips</th>\n",
       "      <th>Cpu brand</th>\n",
       "      <th>HDD</th>\n",
       "      <th>SSD</th>\n",
       "      <th>Gpu brand</th>\n",
       "      <th>os</th>\n",
       "    </tr>\n",
       "  </thead>\n",
       "  <tbody>\n",
       "    <tr>\n",
       "      <th>0</th>\n",
       "      <td>0</td>\n",
       "      <td>Apple</td>\n",
       "      <td>Ultrabook</td>\n",
       "      <td>8</td>\n",
       "      <td>1.37</td>\n",
       "      <td>71378.6832</td>\n",
       "      <td>0</td>\n",
       "      <td>1</td>\n",
       "      <td>Intel Core i5</td>\n",
       "      <td>0</td>\n",
       "      <td>128</td>\n",
       "      <td>Intel</td>\n",
       "      <td>Mac</td>\n",
       "    </tr>\n",
       "    <tr>\n",
       "      <th>1</th>\n",
       "      <td>1</td>\n",
       "      <td>Apple</td>\n",
       "      <td>Ultrabook</td>\n",
       "      <td>8</td>\n",
       "      <td>1.34</td>\n",
       "      <td>47895.5232</td>\n",
       "      <td>0</td>\n",
       "      <td>0</td>\n",
       "      <td>Intel Core i5</td>\n",
       "      <td>0</td>\n",
       "      <td>0</td>\n",
       "      <td>Intel</td>\n",
       "      <td>Mac</td>\n",
       "    </tr>\n",
       "    <tr>\n",
       "      <th>2</th>\n",
       "      <td>2</td>\n",
       "      <td>HP</td>\n",
       "      <td>Notebook</td>\n",
       "      <td>8</td>\n",
       "      <td>1.86</td>\n",
       "      <td>30636.0000</td>\n",
       "      <td>0</td>\n",
       "      <td>0</td>\n",
       "      <td>Intel Core i5</td>\n",
       "      <td>0</td>\n",
       "      <td>256</td>\n",
       "      <td>Intel</td>\n",
       "      <td>Others/No OS/Linux</td>\n",
       "    </tr>\n",
       "    <tr>\n",
       "      <th>3</th>\n",
       "      <td>3</td>\n",
       "      <td>Apple</td>\n",
       "      <td>Ultrabook</td>\n",
       "      <td>16</td>\n",
       "      <td>1.83</td>\n",
       "      <td>135195.3360</td>\n",
       "      <td>0</td>\n",
       "      <td>1</td>\n",
       "      <td>Intel Core i7</td>\n",
       "      <td>0</td>\n",
       "      <td>512</td>\n",
       "      <td>AMD</td>\n",
       "      <td>Mac</td>\n",
       "    </tr>\n",
       "    <tr>\n",
       "      <th>4</th>\n",
       "      <td>4</td>\n",
       "      <td>Apple</td>\n",
       "      <td>Ultrabook</td>\n",
       "      <td>8</td>\n",
       "      <td>1.37</td>\n",
       "      <td>96095.8080</td>\n",
       "      <td>0</td>\n",
       "      <td>1</td>\n",
       "      <td>Intel Core i5</td>\n",
       "      <td>0</td>\n",
       "      <td>256</td>\n",
       "      <td>Intel</td>\n",
       "      <td>Mac</td>\n",
       "    </tr>\n",
       "  </tbody>\n",
       "</table>\n",
       "</div>"
      ],
      "text/plain": [
       "   Unnamed: 0 Company   TypeName  Ram  Weight        Price  Touchscreen  Ips  \\\n",
       "0           0   Apple  Ultrabook    8    1.37   71378.6832            0    1   \n",
       "1           1   Apple  Ultrabook    8    1.34   47895.5232            0    0   \n",
       "2           2      HP   Notebook    8    1.86   30636.0000            0    0   \n",
       "3           3   Apple  Ultrabook   16    1.83  135195.3360            0    1   \n",
       "4           4   Apple  Ultrabook    8    1.37   96095.8080            0    1   \n",
       "\n",
       "       Cpu brand  HDD  SSD Gpu brand                  os  \n",
       "0  Intel Core i5    0  128     Intel                 Mac  \n",
       "1  Intel Core i5    0    0     Intel                 Mac  \n",
       "2  Intel Core i5    0  256     Intel  Others/No OS/Linux  \n",
       "3  Intel Core i7    0  512       AMD                 Mac  \n",
       "4  Intel Core i5    0  256     Intel                 Mac  "
      ]
     },
     "execution_count": 2,
     "metadata": {},
     "output_type": "execute_result"
    }
   ],
   "source": [
    "df = pd.read_csv('laptop_price_data.csv')\n",
    "print(df.shape)\n",
    "print(type(df))\n",
    "df.head()"
   ]
  },
  {
   "cell_type": "code",
   "execution_count": 3,
   "id": "5fba8e8f",
   "metadata": {},
   "outputs": [
    {
     "data": {
      "text/plain": [
       "Index(['Company', 'TypeName', 'Ram', 'Weight', 'Price', 'Touchscreen', 'Ips',\n",
       "       'Cpu brand', 'HDD', 'SSD', 'Gpu brand', 'os'],\n",
       "      dtype='object')"
      ]
     },
     "execution_count": 3,
     "metadata": {},
     "output_type": "execute_result"
    }
   ],
   "source": [
    "# Dropping Unnamed Column as it is just showing the Serial Number\n",
    "df.drop('Unnamed: 0', axis = 1, inplace =True)\n",
    "df.columns"
   ]
  },
  {
   "cell_type": "code",
   "execution_count": 4,
   "id": "b51c931e",
   "metadata": {},
   "outputs": [],
   "source": [
    "df1 = df.copy()"
   ]
  },
  {
   "cell_type": "markdown",
   "id": "36a72ed0",
   "metadata": {},
   "source": [
    "## Data Preprocessing"
   ]
  },
  {
   "cell_type": "markdown",
   "id": "49ed2280",
   "metadata": {},
   "source": [
    "### 1) Handling Null Values"
   ]
  },
  {
   "cell_type": "code",
   "execution_count": 5,
   "id": "cd1a2c1b",
   "metadata": {},
   "outputs": [
    {
     "data": {
      "text/plain": [
       "Company        0\n",
       "TypeName       0\n",
       "Ram            0\n",
       "Weight         0\n",
       "Price          0\n",
       "Touchscreen    0\n",
       "Ips            0\n",
       "Cpu brand      0\n",
       "HDD            0\n",
       "SSD            0\n",
       "Gpu brand      0\n",
       "os             0\n",
       "dtype: int64"
      ]
     },
     "execution_count": 5,
     "metadata": {},
     "output_type": "execute_result"
    }
   ],
   "source": [
    "df.isna().sum()"
   ]
  },
  {
   "cell_type": "markdown",
   "id": "d1d8060c",
   "metadata": {},
   "source": [
    "### 2) Handling the Duplicate rows"
   ]
  },
  {
   "cell_type": "code",
   "execution_count": 6,
   "id": "616cf9c7",
   "metadata": {},
   "outputs": [
    {
     "data": {
      "text/plain": [
       "30"
      ]
     },
     "execution_count": 6,
     "metadata": {},
     "output_type": "execute_result"
    }
   ],
   "source": [
    "df.duplicated().sum()"
   ]
  },
  {
   "cell_type": "code",
   "execution_count": 7,
   "id": "61cd28c9",
   "metadata": {},
   "outputs": [],
   "source": [
    "df.drop_duplicates(inplace = True)"
   ]
  },
  {
   "cell_type": "code",
   "execution_count": 8,
   "id": "ff1a3cfc",
   "metadata": {},
   "outputs": [
    {
     "data": {
      "text/plain": [
       "0"
      ]
     },
     "execution_count": 8,
     "metadata": {},
     "output_type": "execute_result"
    }
   ],
   "source": [
    "df.duplicated().sum()"
   ]
  },
  {
   "cell_type": "markdown",
   "id": "73d7ebbe",
   "metadata": {},
   "source": [
    "### 3) Checking Data Types"
   ]
  },
  {
   "cell_type": "code",
   "execution_count": 9,
   "id": "3be9f6c9",
   "metadata": {},
   "outputs": [
    {
     "data": {
      "text/plain": [
       "Company         object\n",
       "TypeName        object\n",
       "Ram              int64\n",
       "Weight         float64\n",
       "Price          float64\n",
       "Touchscreen      int64\n",
       "Ips              int64\n",
       "Cpu brand       object\n",
       "HDD              int64\n",
       "SSD              int64\n",
       "Gpu brand       object\n",
       "os              object\n",
       "dtype: object"
      ]
     },
     "execution_count": 9,
     "metadata": {},
     "output_type": "execute_result"
    }
   ],
   "source": [
    "df.dtypes"
   ]
  },
  {
   "cell_type": "markdown",
   "id": "4cbcb672",
   "metadata": {},
   "source": [
    "### 4) Handling Outliers"
   ]
  },
  {
   "cell_type": "code",
   "execution_count": 10,
   "id": "578cc10e",
   "metadata": {},
   "outputs": [
    {
     "data": {
      "text/html": [
       "<div>\n",
       "<style scoped>\n",
       "    .dataframe tbody tr th:only-of-type {\n",
       "        vertical-align: middle;\n",
       "    }\n",
       "\n",
       "    .dataframe tbody tr th {\n",
       "        vertical-align: top;\n",
       "    }\n",
       "\n",
       "    .dataframe thead th {\n",
       "        text-align: right;\n",
       "    }\n",
       "</style>\n",
       "<table border=\"1\" class=\"dataframe\">\n",
       "  <thead>\n",
       "    <tr style=\"text-align: right;\">\n",
       "      <th></th>\n",
       "      <th>count</th>\n",
       "      <th>mean</th>\n",
       "      <th>std</th>\n",
       "      <th>min</th>\n",
       "      <th>1%</th>\n",
       "      <th>2%</th>\n",
       "      <th>3%</th>\n",
       "      <th>5%</th>\n",
       "      <th>50%</th>\n",
       "      <th>90%</th>\n",
       "      <th>95%</th>\n",
       "      <th>96%</th>\n",
       "      <th>97%</th>\n",
       "      <th>98%</th>\n",
       "      <th>99%</th>\n",
       "      <th>max</th>\n",
       "    </tr>\n",
       "  </thead>\n",
       "  <tbody>\n",
       "    <tr>\n",
       "      <th>Ram</th>\n",
       "      <td>1272.0</td>\n",
       "      <td>8.451258</td>\n",
       "      <td>5.099249</td>\n",
       "      <td>2.00</td>\n",
       "      <td>2.000000</td>\n",
       "      <td>4.00</td>\n",
       "      <td>4.00000</td>\n",
       "      <td>4.00000</td>\n",
       "      <td>8.00</td>\n",
       "      <td>16.0000</td>\n",
       "      <td>16.00</td>\n",
       "      <td>16.000</td>\n",
       "      <td>16.0000</td>\n",
       "      <td>16.000000</td>\n",
       "      <td>32.000</td>\n",
       "      <td>64.00</td>\n",
       "    </tr>\n",
       "    <tr>\n",
       "      <th>Weight</th>\n",
       "      <td>1272.0</td>\n",
       "      <td>2.041761</td>\n",
       "      <td>0.669088</td>\n",
       "      <td>0.69</td>\n",
       "      <td>0.955500</td>\n",
       "      <td>1.08</td>\n",
       "      <td>1.10000</td>\n",
       "      <td>1.17000</td>\n",
       "      <td>2.04</td>\n",
       "      <td>2.8000</td>\n",
       "      <td>3.20</td>\n",
       "      <td>3.358</td>\n",
       "      <td>3.7800</td>\n",
       "      <td>4.300000</td>\n",
       "      <td>4.420</td>\n",
       "      <td>4.70</td>\n",
       "    </tr>\n",
       "    <tr>\n",
       "      <th>Price</th>\n",
       "      <td>1272.0</td>\n",
       "      <td>60520.657755</td>\n",
       "      <td>37355.685811</td>\n",
       "      <td>9270.72</td>\n",
       "      <td>12960.514512</td>\n",
       "      <td>14119.20</td>\n",
       "      <td>15251.24016</td>\n",
       "      <td>17214.52824</td>\n",
       "      <td>52693.92</td>\n",
       "      <td>109170.1872</td>\n",
       "      <td>130482.72</td>\n",
       "      <td>136599.264</td>\n",
       "      <td>145283.3712</td>\n",
       "      <td>153350.208288</td>\n",
       "      <td>167855.976</td>\n",
       "      <td>324954.72</td>\n",
       "    </tr>\n",
       "    <tr>\n",
       "      <th>Touchscreen</th>\n",
       "      <td>1272.0</td>\n",
       "      <td>0.147013</td>\n",
       "      <td>0.354258</td>\n",
       "      <td>0.00</td>\n",
       "      <td>0.000000</td>\n",
       "      <td>0.00</td>\n",
       "      <td>0.00000</td>\n",
       "      <td>0.00000</td>\n",
       "      <td>0.00</td>\n",
       "      <td>1.0000</td>\n",
       "      <td>1.00</td>\n",
       "      <td>1.000</td>\n",
       "      <td>1.0000</td>\n",
       "      <td>1.000000</td>\n",
       "      <td>1.000</td>\n",
       "      <td>1.00</td>\n",
       "    </tr>\n",
       "    <tr>\n",
       "      <th>Ips</th>\n",
       "      <td>1272.0</td>\n",
       "      <td>0.279874</td>\n",
       "      <td>0.449114</td>\n",
       "      <td>0.00</td>\n",
       "      <td>0.000000</td>\n",
       "      <td>0.00</td>\n",
       "      <td>0.00000</td>\n",
       "      <td>0.00000</td>\n",
       "      <td>0.00</td>\n",
       "      <td>1.0000</td>\n",
       "      <td>1.00</td>\n",
       "      <td>1.000</td>\n",
       "      <td>1.0000</td>\n",
       "      <td>1.000000</td>\n",
       "      <td>1.000</td>\n",
       "      <td>1.00</td>\n",
       "    </tr>\n",
       "    <tr>\n",
       "      <th>HDD</th>\n",
       "      <td>1272.0</td>\n",
       "      <td>414.040881</td>\n",
       "      <td>518.128204</td>\n",
       "      <td>0.00</td>\n",
       "      <td>0.000000</td>\n",
       "      <td>0.00</td>\n",
       "      <td>0.00000</td>\n",
       "      <td>0.00000</td>\n",
       "      <td>0.00</td>\n",
       "      <td>1000.0000</td>\n",
       "      <td>1000.00</td>\n",
       "      <td>1000.000</td>\n",
       "      <td>1000.0000</td>\n",
       "      <td>2000.000000</td>\n",
       "      <td>2000.000</td>\n",
       "      <td>2000.00</td>\n",
       "    </tr>\n",
       "    <tr>\n",
       "      <th>SSD</th>\n",
       "      <td>1272.0</td>\n",
       "      <td>186.298742</td>\n",
       "      <td>186.597777</td>\n",
       "      <td>0.00</td>\n",
       "      <td>0.000000</td>\n",
       "      <td>0.00</td>\n",
       "      <td>0.00000</td>\n",
       "      <td>0.00000</td>\n",
       "      <td>256.00</td>\n",
       "      <td>512.0000</td>\n",
       "      <td>512.00</td>\n",
       "      <td>512.000</td>\n",
       "      <td>512.0000</td>\n",
       "      <td>512.000000</td>\n",
       "      <td>1000.000</td>\n",
       "      <td>1024.00</td>\n",
       "    </tr>\n",
       "  </tbody>\n",
       "</table>\n",
       "</div>"
      ],
      "text/plain": [
       "              count          mean           std      min            1%  \\\n",
       "Ram          1272.0      8.451258      5.099249     2.00      2.000000   \n",
       "Weight       1272.0      2.041761      0.669088     0.69      0.955500   \n",
       "Price        1272.0  60520.657755  37355.685811  9270.72  12960.514512   \n",
       "Touchscreen  1272.0      0.147013      0.354258     0.00      0.000000   \n",
       "Ips          1272.0      0.279874      0.449114     0.00      0.000000   \n",
       "HDD          1272.0    414.040881    518.128204     0.00      0.000000   \n",
       "SSD          1272.0    186.298742    186.597777     0.00      0.000000   \n",
       "\n",
       "                   2%           3%           5%       50%          90%  \\\n",
       "Ram              4.00      4.00000      4.00000      8.00      16.0000   \n",
       "Weight           1.08      1.10000      1.17000      2.04       2.8000   \n",
       "Price        14119.20  15251.24016  17214.52824  52693.92  109170.1872   \n",
       "Touchscreen      0.00      0.00000      0.00000      0.00       1.0000   \n",
       "Ips              0.00      0.00000      0.00000      0.00       1.0000   \n",
       "HDD              0.00      0.00000      0.00000      0.00    1000.0000   \n",
       "SSD              0.00      0.00000      0.00000    256.00     512.0000   \n",
       "\n",
       "                   95%         96%          97%            98%         99%  \\\n",
       "Ram              16.00      16.000      16.0000      16.000000      32.000   \n",
       "Weight            3.20       3.358       3.7800       4.300000       4.420   \n",
       "Price        130482.72  136599.264  145283.3712  153350.208288  167855.976   \n",
       "Touchscreen       1.00       1.000       1.0000       1.000000       1.000   \n",
       "Ips               1.00       1.000       1.0000       1.000000       1.000   \n",
       "HDD            1000.00    1000.000    1000.0000    2000.000000    2000.000   \n",
       "SSD             512.00     512.000     512.0000     512.000000    1000.000   \n",
       "\n",
       "                   max  \n",
       "Ram              64.00  \n",
       "Weight            4.70  \n",
       "Price        324954.72  \n",
       "Touchscreen       1.00  \n",
       "Ips               1.00  \n",
       "HDD            2000.00  \n",
       "SSD            1024.00  "
      ]
     },
     "execution_count": 10,
     "metadata": {},
     "output_type": "execute_result"
    }
   ],
   "source": [
    "df.describe(percentiles = [0.01, 0.02, 0.03, 0.05, 0.9, 0.95, 0.96, 0.97, 0.98, 0.99]).T"
   ]
  },
  {
   "cell_type": "markdown",
   "id": "78e8dc11",
   "metadata": {},
   "source": [
    "### Boxplot for Outliers"
   ]
  },
  {
   "cell_type": "code",
   "execution_count": 11,
   "id": "dad2620e",
   "metadata": {},
   "outputs": [
    {
     "data": {
      "text/plain": [
       "Index(['Company', 'TypeName', 'Ram', 'Weight', 'Price', 'Touchscreen', 'Ips',\n",
       "       'Cpu brand', 'HDD', 'SSD', 'Gpu brand', 'os'],\n",
       "      dtype='object')"
      ]
     },
     "execution_count": 11,
     "metadata": {},
     "output_type": "execute_result"
    }
   ],
   "source": [
    "df.columns"
   ]
  },
  {
   "cell_type": "code",
   "execution_count": 12,
   "id": "7eccb6b1",
   "metadata": {},
   "outputs": [
    {
     "name": "stderr",
     "output_type": "stream",
     "text": [
      "C:\\Users\\acer\\anaconda3\\lib\\site-packages\\seaborn\\_decorators.py:36: FutureWarning: Pass the following variable as a keyword arg: x. From version 0.12, the only valid positional argument will be `data`, and passing other arguments without an explicit keyword will result in an error or misinterpretation.\n",
      "  warnings.warn(\n"
     ]
    },
    {
     "data": {
      "image/png": "[encoded data removed]",
      "text/plain": [
       "<Figure size 432x288 with 1 Axes>"
      ]
     },
     "metadata": {
      "needs_background": "light"
     },
     "output_type": "display_data"
    }
   ],
   "source": [
    "sns.boxplot(df['Ram'])\n",
    "plt.show()"
   ]
  },
  {
   "cell_type": "code",
   "execution_count": 13,
   "id": "0ff4e31d",
   "metadata": {},
   "outputs": [
    {
     "name": "stdout",
     "output_type": "stream",
     "text": [
      "(21, 12)\n"
     ]
    }
   ],
   "source": [
    "print(df[df['Ram']>20].shape)"
   ]
  },
  {
   "cell_type": "code",
   "execution_count": 14,
   "id": "d9b6ab68",
   "metadata": {},
   "outputs": [
    {
     "data": {
      "image/png": "[encoded data removed]",
      "text/plain": [
       "<Figure size 432x288 with 1 Axes>"
      ]
     },
     "metadata": {
      "needs_background": "light"
     },
     "output_type": "display_data"
    }
   ],
   "source": [
    "sns.boxplot(x = df['Weight'])\n",
    "plt.show()"
   ]
  },
  {
   "cell_type": "code",
   "execution_count": 15,
   "id": "f5eaa17a",
   "metadata": {},
   "outputs": [
    {
     "data": {
      "text/plain": [
       "(46, 12)"
      ]
     },
     "execution_count": 15,
     "metadata": {},
     "output_type": "execute_result"
    }
   ],
   "source": [
    "df[df['Weight']>3.5].shape"
   ]
  },
  {
   "cell_type": "markdown",
   "id": "a10a4a96",
   "metadata": {},
   "source": [
    "#### Outlier Clipping"
   ]
  },
  {
   "cell_type": "code",
   "execution_count": 16,
   "id": "daa30320",
   "metadata": {},
   "outputs": [],
   "source": [
    "# Replacing outliers where the Weight is greater than 3.5\n",
    "df['Weight'] = np.where(df['Weight']>3.5, 3.5, df['Weight'])"
   ]
  },
  {
   "cell_type": "code",
   "execution_count": 17,
   "id": "00bf93a1",
   "metadata": {},
   "outputs": [
    {
     "data": {
      "image/png": "[encoded data removed]",
      "text/plain": [
       "<Figure size 432x288 with 1 Axes>"
      ]
     },
     "metadata": {
      "needs_background": "light"
     },
     "output_type": "display_data"
    }
   ],
   "source": [
    "sns.boxplot(x=df['Price'])\n",
    "plt.show()"
   ]
  },
  {
   "cell_type": "code",
   "execution_count": 18,
   "id": "f24e72db",
   "metadata": {},
   "outputs": [
    {
     "data": {
      "text/plain": [
       "(7, 12)"
      ]
     },
     "execution_count": 18,
     "metadata": {},
     "output_type": "execute_result"
    }
   ],
   "source": [
    "df[df['Price']>200000].shape"
   ]
  },
  {
   "cell_type": "code",
   "execution_count": 19,
   "id": "125aab88",
   "metadata": {},
   "outputs": [
    {
     "data": {
      "text/html": [
       "<div>\n",
       "<style scoped>\n",
       "    .dataframe tbody tr th:only-of-type {\n",
       "        vertical-align: middle;\n",
       "    }\n",
       "\n",
       "    .dataframe tbody tr th {\n",
       "        vertical-align: top;\n",
       "    }\n",
       "\n",
       "    .dataframe thead th {\n",
       "        text-align: right;\n",
       "    }\n",
       "</style>\n",
       "<table border=\"1\" class=\"dataframe\">\n",
       "  <thead>\n",
       "    <tr style=\"text-align: right;\">\n",
       "      <th></th>\n",
       "      <th>Company</th>\n",
       "      <th>TypeName</th>\n",
       "      <th>Ram</th>\n",
       "      <th>Weight</th>\n",
       "      <th>Price</th>\n",
       "      <th>Touchscreen</th>\n",
       "      <th>Ips</th>\n",
       "      <th>Cpu brand</th>\n",
       "      <th>HDD</th>\n",
       "      <th>SSD</th>\n",
       "      <th>Gpu brand</th>\n",
       "      <th>os</th>\n",
       "    </tr>\n",
       "  </thead>\n",
       "  <tbody>\n",
       "    <tr>\n",
       "      <th>196</th>\n",
       "      <td>Razer</td>\n",
       "      <td>Gaming</td>\n",
       "      <td>32</td>\n",
       "      <td>3.49</td>\n",
       "      <td>324954.72</td>\n",
       "      <td>1</td>\n",
       "      <td>0</td>\n",
       "      <td>Intel Core i7</td>\n",
       "      <td>0</td>\n",
       "      <td>1000</td>\n",
       "      <td>Nvidia</td>\n",
       "      <td>Windows</td>\n",
       "    </tr>\n",
       "    <tr>\n",
       "      <th>238</th>\n",
       "      <td>Asus</td>\n",
       "      <td>Gaming</td>\n",
       "      <td>32</td>\n",
       "      <td>3.50</td>\n",
       "      <td>207259.20</td>\n",
       "      <td>0</td>\n",
       "      <td>0</td>\n",
       "      <td>Intel Core i7</td>\n",
       "      <td>1000</td>\n",
       "      <td>512</td>\n",
       "      <td>Nvidia</td>\n",
       "      <td>Windows</td>\n",
       "    </tr>\n",
       "    <tr>\n",
       "      <th>610</th>\n",
       "      <td>Lenovo</td>\n",
       "      <td>Notebook</td>\n",
       "      <td>32</td>\n",
       "      <td>2.50</td>\n",
       "      <td>261018.72</td>\n",
       "      <td>0</td>\n",
       "      <td>1</td>\n",
       "      <td>Other Intel Processor</td>\n",
       "      <td>0</td>\n",
       "      <td>1000</td>\n",
       "      <td>Nvidia</td>\n",
       "      <td>Windows</td>\n",
       "    </tr>\n",
       "    <tr>\n",
       "      <th>749</th>\n",
       "      <td>HP</td>\n",
       "      <td>Workstation</td>\n",
       "      <td>16</td>\n",
       "      <td>3.00</td>\n",
       "      <td>233845.92</td>\n",
       "      <td>0</td>\n",
       "      <td>1</td>\n",
       "      <td>Other Intel Processor</td>\n",
       "      <td>0</td>\n",
       "      <td>256</td>\n",
       "      <td>Nvidia</td>\n",
       "      <td>Windows</td>\n",
       "    </tr>\n",
       "    <tr>\n",
       "      <th>830</th>\n",
       "      <td>Razer</td>\n",
       "      <td>Gaming</td>\n",
       "      <td>32</td>\n",
       "      <td>3.49</td>\n",
       "      <td>292986.72</td>\n",
       "      <td>1</td>\n",
       "      <td>0</td>\n",
       "      <td>Intel Core i7</td>\n",
       "      <td>0</td>\n",
       "      <td>512</td>\n",
       "      <td>Nvidia</td>\n",
       "      <td>Windows</td>\n",
       "    </tr>\n",
       "  </tbody>\n",
       "</table>\n",
       "</div>"
      ],
      "text/plain": [
       "    Company     TypeName  Ram  Weight      Price  Touchscreen  Ips  \\\n",
       "196   Razer       Gaming   32    3.49  324954.72            1    0   \n",
       "238    Asus       Gaming   32    3.50  207259.20            0    0   \n",
       "610  Lenovo     Notebook   32    2.50  261018.72            0    1   \n",
       "749      HP  Workstation   16    3.00  233845.92            0    1   \n",
       "830   Razer       Gaming   32    3.49  292986.72            1    0   \n",
       "\n",
       "                 Cpu brand   HDD   SSD Gpu brand       os  \n",
       "196          Intel Core i7     0  1000    Nvidia  Windows  \n",
       "238          Intel Core i7  1000   512    Nvidia  Windows  \n",
       "610  Other Intel Processor     0  1000    Nvidia  Windows  \n",
       "749  Other Intel Processor     0   256    Nvidia  Windows  \n",
       "830          Intel Core i7     0   512    Nvidia  Windows  "
      ]
     },
     "execution_count": 19,
     "metadata": {},
     "output_type": "execute_result"
    }
   ],
   "source": [
    "df[df['Price']>200000].head()"
   ]
  },
  {
   "cell_type": "markdown",
   "id": "a0af0cbe",
   "metadata": {},
   "source": [
    "#### Outlier Clipping"
   ]
  },
  {
   "cell_type": "code",
   "execution_count": 20,
   "id": "d05a1b82",
   "metadata": {},
   "outputs": [],
   "source": [
    "# df['Price'] = np.where(df['Price']>167855.976, 167855.976, df['Price'])"
   ]
  },
  {
   "cell_type": "markdown",
   "id": "28d0ac77",
   "metadata": {},
   "source": [
    "## EDA"
   ]
  },
  {
   "cell_type": "markdown",
   "id": "c8e266ae",
   "metadata": {},
   "source": [
    "### Top 10 Different Laptop Companies with highest count"
   ]
  },
  {
   "cell_type": "code",
   "execution_count": 21,
   "id": "49f03dad",
   "metadata": {},
   "outputs": [
    {
     "data": {
      "image/png": "[encoded data removed]",
      "text/plain": [
       "<Figure size 576x360 with 1 Axes>"
      ]
     },
     "metadata": {
      "needs_background": "light"
     },
     "output_type": "display_data"
    }
   ],
   "source": [
    "plt.figure(figsize=(8,5))\n",
    "ax = sns.countplot(y = df['Company'],\n",
    "             order = df['Company'].value_counts().sort_values(ascending=False)[:10].index)\n",
    "plt.title('Top 10 Count of Different Laptop Companies')\n",
    "plt.show()"
   ]
  },
  {
   "cell_type": "code",
   "execution_count": 22,
   "id": "d290525e",
   "metadata": {},
   "outputs": [
    {
     "data": {
      "text/plain": [
       "Index(['Company', 'TypeName', 'Ram', 'Weight', 'Price', 'Touchscreen', 'Ips',\n",
       "       'Cpu brand', 'HDD', 'SSD', 'Gpu brand', 'os'],\n",
       "      dtype='object')"
      ]
     },
     "execution_count": 22,
     "metadata": {},
     "output_type": "execute_result"
    }
   ],
   "source": [
    "df.columns"
   ]
  },
  {
   "cell_type": "markdown",
   "id": "86a46da8",
   "metadata": {},
   "source": [
    "### Count of TypeName"
   ]
  },
  {
   "cell_type": "code",
   "execution_count": 23,
   "id": "c53a75b9",
   "metadata": {},
   "outputs": [
    {
     "data": {
      "image/png": "[encoded data removed]",
      "text/plain": [
       "<Figure size 432x288 with 1 Axes>"
      ]
     },
     "metadata": {
      "needs_background": "light"
     },
     "output_type": "display_data"
    }
   ],
   "source": [
    "ax = sns.countplot(y = df['TypeName'],\n",
    "             order = df['TypeName'].value_counts().sort_values(ascending=False).index)\n",
    "plt.title('Count of different types of Laptop')\n",
    "plt.show()"
   ]
  },
  {
   "cell_type": "markdown",
   "id": "66ca034b",
   "metadata": {},
   "source": [
    "### Count of CPU Brand"
   ]
  },
  {
   "cell_type": "code",
   "execution_count": 24,
   "id": "3a759b9e",
   "metadata": {},
   "outputs": [
    {
     "data": {
      "image/png": "[encoded data removed]",
      "text/plain": [
       "<Figure size 576x360 with 1 Axes>"
      ]
     },
     "metadata": {
      "needs_background": "light"
     },
     "output_type": "display_data"
    }
   ],
   "source": [
    "plt.figure(figsize=(8,5))\n",
    "ax = sns.countplot(y = df['Cpu brand'],\n",
    "             order = df['Cpu brand'].value_counts().sort_values(ascending=False).index)\n",
    "plt.title('Count of Different Laptop CPU Brands')\n",
    "plt.show()"
   ]
  },
  {
   "cell_type": "markdown",
   "id": "14ef724a",
   "metadata": {},
   "source": [
    "### Count of GPU Brand"
   ]
  },
  {
   "cell_type": "code",
   "execution_count": 25,
   "id": "6cbf374e",
   "metadata": {},
   "outputs": [
    {
     "data": {
      "image/png": "[encoded data removed]",
      "text/plain": [
       "<Figure size 576x360 with 1 Axes>"
      ]
     },
     "metadata": {
      "needs_background": "light"
     },
     "output_type": "display_data"
    }
   ],
   "source": [
    "plt.figure(figsize=(8,5))\n",
    "ax = sns.countplot(y = df['Gpu brand'],\n",
    "             order = df['Gpu brand'].value_counts().sort_values(ascending=False).index)\n",
    "plt.title('Count of Different Laptop GPU Brands')\n",
    "plt.show()"
   ]
  },
  {
   "cell_type": "markdown",
   "id": "ae7bd4e7",
   "metadata": {},
   "source": [
    "### Boxplot for Price for different CPU Brands"
   ]
  },
  {
   "cell_type": "code",
   "execution_count": 26,
   "id": "620189d0",
   "metadata": {},
   "outputs": [
    {
     "data": {
      "image/png": "[encoded data removed]",
      "text/plain": [
       "<Figure size 504x432 with 1 Axes>"
      ]
     },
     "metadata": {
      "needs_background": "light"
     },
     "output_type": "display_data"
    }
   ],
   "source": [
    "plt.figure(figsize=(7,6))\n",
    "sns.boxplot(y=df['Cpu brand'], x=df['Price'])\n",
    "plt.show()"
   ]
  },
  {
   "cell_type": "markdown",
   "id": "ff6d508b",
   "metadata": {},
   "source": [
    "### Boxplot for GPU Brand vs Price"
   ]
  },
  {
   "cell_type": "code",
   "execution_count": 27,
   "id": "4a2c8057",
   "metadata": {},
   "outputs": [
    {
     "data": {
      "image/png": "[encoded data removed]",
      "text/plain": [
       "<Figure size 504x432 with 1 Axes>"
      ]
     },
     "metadata": {
      "needs_background": "light"
     },
     "output_type": "display_data"
    }
   ],
   "source": [
    "plt.figure(figsize=(7,6))\n",
    "sns.boxplot(y=df['Gpu brand'], x=df['Price'])\n",
    "plt.show()"
   ]
  },
  {
   "cell_type": "markdown",
   "id": "01a09b54",
   "metadata": {},
   "source": [
    "### Distplot for Price"
   ]
  },
  {
   "cell_type": "code",
   "execution_count": 28,
   "id": "71a27cd4",
   "metadata": {},
   "outputs": [
    {
     "name": "stderr",
     "output_type": "stream",
     "text": [
      "C:\\Users\\acer\\anaconda3\\lib\\site-packages\\seaborn\\distributions.py:2619: FutureWarning: `distplot` is a deprecated function and will be removed in a future version. Please adapt your code to use either `displot` (a figure-level function with similar flexibility) or `histplot` (an axes-level function for histograms).\n",
      "  warnings.warn(msg, FutureWarning)\n"
     ]
    },
    {
     "data": {
      "image/png": "[encoded data removed]",
      "text/plain": [
       "<Figure size 432x288 with 1 Axes>"
      ]
     },
     "metadata": {
      "needs_background": "light"
     },
     "output_type": "display_data"
    }
   ],
   "source": [
    "sns.distplot(x=df['Price'])\n",
    "plt.show()"
   ]
  },
  {
   "cell_type": "markdown",
   "id": "bf6d51f9",
   "metadata": {},
   "source": [
    "### Checking Correlation among the Columns"
   ]
  },
  {
   "cell_type": "code",
   "execution_count": 29,
   "id": "36ae06eb",
   "metadata": {},
   "outputs": [
    {
     "data": {
      "image/png": "[encoded data removed]",
      "text/plain": [
       "<Figure size 720x504 with 2 Axes>"
      ]
     },
     "metadata": {
      "needs_background": "light"
     },
     "output_type": "display_data"
    }
   ],
   "source": [
    "corr = df.corr()\n",
    "plt.figure(figsize=(10,7))\n",
    "sns.heatmap(corr, annot=True, cmap='RdBu')\n",
    "plt.show()"
   ]
  },
  {
   "cell_type": "code",
   "execution_count": 30,
   "id": "09822850",
   "metadata": {},
   "outputs": [
    {
     "data": {
      "image/png": "[encoded data removed]",
      "text/plain": [
       "<Figure size 720x504 with 2 Axes>"
      ]
     },
     "metadata": {
      "needs_background": "light"
     },
     "output_type": "display_data"
    }
   ],
   "source": [
    "# To filter the higher values\n",
    "corr = df.corr()\n",
    "corr = corr[corr>0.7]\n",
    "plt.figure(figsize=(10,7))\n",
    "sns.heatmap(corr, annot=True, cmap='RdBu')\n",
    "plt.show()"
   ]
  },
  {
   "cell_type": "markdown",
   "id": "fa18d662",
   "metadata": {},
   "source": [
    "#### Inference :\n",
    "High Correlation does not exist amongst the Independent Features."
   ]
  },
  {
   "cell_type": "code",
   "execution_count": 31,
   "id": "097a434f",
   "metadata": {},
   "outputs": [
    {
     "data": {
      "text/html": [
       "<div>\n",
       "<style scoped>\n",
       "    .dataframe tbody tr th:only-of-type {\n",
       "        vertical-align: middle;\n",
       "    }\n",
       "\n",
       "    .dataframe tbody tr th {\n",
       "        vertical-align: top;\n",
       "    }\n",
       "\n",
       "    .dataframe thead th {\n",
       "        text-align: right;\n",
       "    }\n",
       "</style>\n",
       "<table border=\"1\" class=\"dataframe\">\n",
       "  <thead>\n",
       "    <tr style=\"text-align: right;\">\n",
       "      <th></th>\n",
       "      <th>Company</th>\n",
       "      <th>TypeName</th>\n",
       "      <th>Ram</th>\n",
       "      <th>Weight</th>\n",
       "      <th>Price</th>\n",
       "      <th>Touchscreen</th>\n",
       "      <th>Ips</th>\n",
       "      <th>Cpu brand</th>\n",
       "      <th>HDD</th>\n",
       "      <th>SSD</th>\n",
       "      <th>Gpu brand</th>\n",
       "      <th>os</th>\n",
       "    </tr>\n",
       "  </thead>\n",
       "  <tbody>\n",
       "    <tr>\n",
       "      <th>0</th>\n",
       "      <td>Apple</td>\n",
       "      <td>Ultrabook</td>\n",
       "      <td>8</td>\n",
       "      <td>1.37</td>\n",
       "      <td>71378.6832</td>\n",
       "      <td>0</td>\n",
       "      <td>1</td>\n",
       "      <td>Intel Core i5</td>\n",
       "      <td>0</td>\n",
       "      <td>128</td>\n",
       "      <td>Intel</td>\n",
       "      <td>Mac</td>\n",
       "    </tr>\n",
       "    <tr>\n",
       "      <th>1</th>\n",
       "      <td>Apple</td>\n",
       "      <td>Ultrabook</td>\n",
       "      <td>8</td>\n",
       "      <td>1.34</td>\n",
       "      <td>47895.5232</td>\n",
       "      <td>0</td>\n",
       "      <td>0</td>\n",
       "      <td>Intel Core i5</td>\n",
       "      <td>0</td>\n",
       "      <td>0</td>\n",
       "      <td>Intel</td>\n",
       "      <td>Mac</td>\n",
       "    </tr>\n",
       "    <tr>\n",
       "      <th>2</th>\n",
       "      <td>HP</td>\n",
       "      <td>Notebook</td>\n",
       "      <td>8</td>\n",
       "      <td>1.86</td>\n",
       "      <td>30636.0000</td>\n",
       "      <td>0</td>\n",
       "      <td>0</td>\n",
       "      <td>Intel Core i5</td>\n",
       "      <td>0</td>\n",
       "      <td>256</td>\n",
       "      <td>Intel</td>\n",
       "      <td>Others/No OS/Linux</td>\n",
       "    </tr>\n",
       "    <tr>\n",
       "      <th>3</th>\n",
       "      <td>Apple</td>\n",
       "      <td>Ultrabook</td>\n",
       "      <td>16</td>\n",
       "      <td>1.83</td>\n",
       "      <td>135195.3360</td>\n",
       "      <td>0</td>\n",
       "      <td>1</td>\n",
       "      <td>Intel Core i7</td>\n",
       "      <td>0</td>\n",
       "      <td>512</td>\n",
       "      <td>AMD</td>\n",
       "      <td>Mac</td>\n",
       "    </tr>\n",
       "    <tr>\n",
       "      <th>4</th>\n",
       "      <td>Apple</td>\n",
       "      <td>Ultrabook</td>\n",
       "      <td>8</td>\n",
       "      <td>1.37</td>\n",
       "      <td>96095.8080</td>\n",
       "      <td>0</td>\n",
       "      <td>1</td>\n",
       "      <td>Intel Core i5</td>\n",
       "      <td>0</td>\n",
       "      <td>256</td>\n",
       "      <td>Intel</td>\n",
       "      <td>Mac</td>\n",
       "    </tr>\n",
       "  </tbody>\n",
       "</table>\n",
       "</div>"
      ],
      "text/plain": [
       "  Company   TypeName  Ram  Weight        Price  Touchscreen  Ips  \\\n",
       "0   Apple  Ultrabook    8    1.37   71378.6832            0    1   \n",
       "1   Apple  Ultrabook    8    1.34   47895.5232            0    0   \n",
       "2      HP   Notebook    8    1.86   30636.0000            0    0   \n",
       "3   Apple  Ultrabook   16    1.83  135195.3360            0    1   \n",
       "4   Apple  Ultrabook    8    1.37   96095.8080            0    1   \n",
       "\n",
       "       Cpu brand  HDD  SSD Gpu brand                  os  \n",
       "0  Intel Core i5    0  128     Intel                 Mac  \n",
       "1  Intel Core i5    0    0     Intel                 Mac  \n",
       "2  Intel Core i5    0  256     Intel  Others/No OS/Linux  \n",
       "3  Intel Core i7    0  512       AMD                 Mac  \n",
       "4  Intel Core i5    0  256     Intel                 Mac  "
      ]
     },
     "execution_count": 31,
     "metadata": {},
     "output_type": "execute_result"
    }
   ],
   "source": [
    "df.head()"
   ]
  },
  {
   "cell_type": "markdown",
   "id": "7f586218",
   "metadata": {},
   "source": [
    "### Select the Dependent and Independent Features"
   ]
  },
  {
   "cell_type": "code",
   "execution_count": 32,
   "id": "ab6ffc82",
   "metadata": {},
   "outputs": [
    {
     "name": "stdout",
     "output_type": "stream",
     "text": [
      "<class 'pandas.core.frame.DataFrame'>\n",
      "<class 'pandas.core.series.Series'>\n",
      "(1272, 11)\n",
      "(1272,)\n"
     ]
    }
   ],
   "source": [
    "x = df.drop('Price', axis=1)\n",
    "y = df['Price']\n",
    "print(type(x))\n",
    "print(type(y))\n",
    "print(x.shape)\n",
    "print(y.shape)"
   ]
  },
  {
   "cell_type": "markdown",
   "id": "9d11d3e5",
   "metadata": {},
   "source": [
    "## Splitting the Data into Train and Test Data"
   ]
  },
  {
   "cell_type": "code",
   "execution_count": 33,
   "id": "ce83e08c",
   "metadata": {},
   "outputs": [],
   "source": [
    "from sklearn.model_selection import train_test_split"
   ]
  },
  {
   "cell_type": "code",
   "execution_count": 34,
   "id": "bf82f0a3",
   "metadata": {},
   "outputs": [
    {
     "name": "stdout",
     "output_type": "stream",
     "text": [
      "(954, 11)\n",
      "(318, 11)\n",
      "(954,)\n",
      "(318,)\n"
     ]
    }
   ],
   "source": [
    "x_train, x_test, y_train, y_test = train_test_split(x, y, test_size=0.25, random_state=42)\n",
    "print(x_train.shape)\n",
    "print(x_test.shape)\n",
    "print(y_train.shape)\n",
    "print(y_test.shape)"
   ]
  },
  {
   "cell_type": "markdown",
   "id": "07c90e37",
   "metadata": {},
   "source": [
    "### Creating Functions to Evaluate the Model in terms of R2Score, MSE, RMSE, MAE"
   ]
  },
  {
   "cell_type": "code",
   "execution_count": 35,
   "id": "f2cb5ee0",
   "metadata": {},
   "outputs": [],
   "source": [
    "from sklearn.metrics import mean_squared_error, mean_absolute_error, r2_score"
   ]
  },
  {
   "cell_type": "code",
   "execution_count": 42,
   "id": "22a41905",
   "metadata": {},
   "outputs": [],
   "source": [
    "def eval_model(ytest, ypred) :\n",
    "    mse = mean_squared_error(ytest, ypred)\n",
    "    rmse = np.sqrt(mse)\n",
    "    mae = mean_absolute_error(ytest, ypred)\n",
    "    r2 = r2_score(ytest, ypred)\n",
    "    print('MAE', mae)\n",
    "    print('MSE', mse)\n",
    "    print('RMSE', rmse)\n",
    "    print('R2 Score', r2)"
   ]
  },
  {
   "cell_type": "markdown",
   "id": "f786b619",
   "metadata": {},
   "source": [
    "### Import ML Regression Libraries"
   ]
  },
  {
   "cell_type": "code",
   "execution_count": 37,
   "id": "560f4d42",
   "metadata": {},
   "outputs": [],
   "source": [
    "from sklearn.linear_model import LinearRegression\n",
    "from sklearn.linear_model import Ridge, Lasso\n",
    "from sklearn.neighbors import KNeighborsRegressor \n",
    "from sklearn.tree import DecisionTreeRegressor\n",
    "from sklearn.ensemble import RandomForestRegressor"
   ]
  },
  {
   "cell_type": "markdown",
   "id": "7abbd0a5",
   "metadata": {},
   "source": [
    "### Import the neccessary sklearn transformational Libraries"
   ]
  },
  {
   "cell_type": "code",
   "execution_count": 38,
   "id": "7d195520",
   "metadata": {},
   "outputs": [],
   "source": [
    "from sklearn.preprocessing import OneHotEncoder\n",
    "from sklearn.compose import ColumnTransformer\n",
    "from sklearn.pipeline import Pipeline"
   ]
  },
  {
   "cell_type": "code",
   "execution_count": 39,
   "id": "33681a41",
   "metadata": {},
   "outputs": [
    {
     "name": "stdout",
     "output_type": "stream",
     "text": [
      "Index(['Company', 'TypeName', 'Ram', 'Weight', 'Touchscreen', 'Ips',\n",
      "       'Cpu brand', 'HDD', 'SSD', 'Gpu brand', 'os'],\n",
      "      dtype='object')\n"
     ]
    },
    {
     "data": {
      "text/html": [
       "<div>\n",
       "<style scoped>\n",
       "    .dataframe tbody tr th:only-of-type {\n",
       "        vertical-align: middle;\n",
       "    }\n",
       "\n",
       "    .dataframe tbody tr th {\n",
       "        vertical-align: top;\n",
       "    }\n",
       "\n",
       "    .dataframe thead th {\n",
       "        text-align: right;\n",
       "    }\n",
       "</style>\n",
       "<table border=\"1\" class=\"dataframe\">\n",
       "  <thead>\n",
       "    <tr style=\"text-align: right;\">\n",
       "      <th></th>\n",
       "      <th>Company</th>\n",
       "      <th>TypeName</th>\n",
       "      <th>Ram</th>\n",
       "      <th>Weight</th>\n",
       "      <th>Touchscreen</th>\n",
       "      <th>Ips</th>\n",
       "      <th>Cpu brand</th>\n",
       "      <th>HDD</th>\n",
       "      <th>SSD</th>\n",
       "      <th>Gpu brand</th>\n",
       "      <th>os</th>\n",
       "    </tr>\n",
       "  </thead>\n",
       "  <tbody>\n",
       "    <tr>\n",
       "      <th>0</th>\n",
       "      <td>Apple</td>\n",
       "      <td>Ultrabook</td>\n",
       "      <td>8</td>\n",
       "      <td>1.37</td>\n",
       "      <td>0</td>\n",
       "      <td>1</td>\n",
       "      <td>Intel Core i5</td>\n",
       "      <td>0</td>\n",
       "      <td>128</td>\n",
       "      <td>Intel</td>\n",
       "      <td>Mac</td>\n",
       "    </tr>\n",
       "    <tr>\n",
       "      <th>1</th>\n",
       "      <td>Apple</td>\n",
       "      <td>Ultrabook</td>\n",
       "      <td>8</td>\n",
       "      <td>1.34</td>\n",
       "      <td>0</td>\n",
       "      <td>0</td>\n",
       "      <td>Intel Core i5</td>\n",
       "      <td>0</td>\n",
       "      <td>0</td>\n",
       "      <td>Intel</td>\n",
       "      <td>Mac</td>\n",
       "    </tr>\n",
       "  </tbody>\n",
       "</table>\n",
       "</div>"
      ],
      "text/plain": [
       "  Company   TypeName  Ram  Weight  Touchscreen  Ips      Cpu brand  HDD  SSD  \\\n",
       "0   Apple  Ultrabook    8    1.37            0    1  Intel Core i5    0  128   \n",
       "1   Apple  Ultrabook    8    1.34            0    0  Intel Core i5    0    0   \n",
       "\n",
       "  Gpu brand   os  \n",
       "0     Intel  Mac  \n",
       "1     Intel  Mac  "
      ]
     },
     "execution_count": 39,
     "metadata": {},
     "output_type": "execute_result"
    }
   ],
   "source": [
    "print(x.columns)\n",
    "x.head(2)"
   ]
  },
  {
   "cell_type": "markdown",
   "id": "debb71ae",
   "metadata": {},
   "source": [
    "## 1) Linear Regression"
   ]
  },
  {
   "cell_type": "code",
   "execution_count": 43,
   "id": "7e3c59e5",
   "metadata": {},
   "outputs": [
    {
     "name": "stdout",
     "output_type": "stream",
     "text": [
      "MAE 13940.9013091491\n",
      "MSE 409547387.3004308\n",
      "RMSE 20237.27717111249\n",
      "R2 Score 0.7020504611099125\n"
     ]
    }
   ],
   "source": [
    "step1 = ColumnTransformer(transformers=\n",
    "                         [('col_transf', OneHotEncoder(drop = 'first', sparse=False), [0,1,6,9,10])],\n",
    "                         remainder='passthrough')\n",
    "step2 = LinearRegression()\n",
    "\n",
    "pipe_lr = Pipeline([('step1', step1), ('step2', step2)])\n",
    "\n",
    "pipe_lr.fit(x_train, y_train)\n",
    "\n",
    "ypred_lr = pipe_lr.predict(x_test)\n",
    "\n",
    "eval_model(y_test, ypred_lr)"
   ]
  },
  {
   "cell_type": "markdown",
   "id": "cf9252f2",
   "metadata": {},
   "source": [
    "## 2) Ridge Regression"
   ]
  },
  {
   "cell_type": "code",
   "execution_count": 49,
   "id": "64d598df",
   "metadata": {},
   "outputs": [
    {
     "name": "stdout",
     "output_type": "stream",
     "text": [
      "MAE 13661.7943201756\n",
      "MSE 393320839.5639608\n",
      "RMSE 19832.31805825937\n",
      "R2 Score 0.7138554257264067\n"
     ]
    }
   ],
   "source": [
    "step1 = ColumnTransformer(transformers=\n",
    "                         [('col_transf', OneHotEncoder(drop = 'first', sparse=False), [0,1,6,9,10])],\n",
    "                         remainder='passthrough')\n",
    "step2 = Ridge(alpha=10)\n",
    "\n",
    "pipe_ridge = Pipeline([('step1', step1), ('step2', step2)])\n",
    "\n",
    "pipe_ridge.fit(x_train, y_train)\n",
    "\n",
    "ypred_ridge = pipe_ridge.predict(x_test)\n",
    "\n",
    "eval_model(y_test, ypred_ridge)"
   ]
  },
  {
   "cell_type": "markdown",
   "id": "13ba4b43",
   "metadata": {},
   "source": [
    "## 3) Lasso Regression"
   ]
  },
  {
   "cell_type": "code",
   "execution_count": 51,
   "id": "a909be15",
   "metadata": {},
   "outputs": [
    {
     "name": "stdout",
     "output_type": "stream",
     "text": [
      "MAE 13938.920406094998\n",
      "MSE 409444854.3501269\n",
      "RMSE 20234.743743129708\n",
      "R2 Score 0.7021250547862766\n"
     ]
    }
   ],
   "source": [
    "step1 = ColumnTransformer(transformers=\n",
    "                         [('col_transf', OneHotEncoder(drop = 'first', sparse=False), [0,1,6,9,10])],\n",
    "                         remainder='passthrough')\n",
    "step2 = Lasso(alpha=0.1)\n",
    "\n",
    "pipe_lasso = Pipeline([('step1', step1), ('step2', step2)])\n",
    "\n",
    "pipe_lasso.fit(x_train, y_train)\n",
    "\n",
    "ypred_lasso = pipe_lasso.predict(x_test)\n",
    "\n",
    "eval_model(y_test, ypred_lasso)"
   ]
  },
  {
   "cell_type": "markdown",
   "id": "f21d09fc",
   "metadata": {},
   "source": [
    "## 4) KNeighbors Regressor"
   ]
  },
  {
   "cell_type": "code",
   "execution_count": 53,
   "id": "4c47a3eb",
   "metadata": {},
   "outputs": [
    {
     "name": "stdout",
     "output_type": "stream",
     "text": [
      "MAE 13343.511894339623\n",
      "MSE 424375257.72532666\n",
      "RMSE 20600.370329810255\n",
      "R2 Score 0.6912630472652264\n"
     ]
    }
   ],
   "source": [
    "step1 = ColumnTransformer(transformers=\n",
    "                         [('col_transf', OneHotEncoder(drop = 'first', sparse=False), [0,1,6,9,10])],\n",
    "                         remainder='passthrough')\n",
    "step2 = KNeighborsRegressor(n_neighbors=3)\n",
    "\n",
    "pipe_knn = Pipeline([('step1', step1), ('step2', step2)])\n",
    "\n",
    "pipe_knn.fit(x_train, y_train)\n",
    "\n",
    "ypred_knn = pipe_knn.predict(x_test)\n",
    "\n",
    "eval_model(y_test, ypred_knn)"
   ]
  },
  {
   "cell_type": "markdown",
   "id": "94637bb6",
   "metadata": {},
   "source": [
    "## 5) DecisionTree Regressor"
   ]
  },
  {
   "cell_type": "code",
   "execution_count": 59,
   "id": "43f0a459",
   "metadata": {},
   "outputs": [
    {
     "name": "stdout",
     "output_type": "stream",
     "text": [
      "MAE 12494.040137810436\n",
      "MSE 337765355.9831738\n",
      "RMSE 18378.3937269603\n",
      "R2 Score 0.7542725574894004\n"
     ]
    }
   ],
   "source": [
    "step1 = ColumnTransformer(transformers=\n",
    "                         [('col_transf', OneHotEncoder(drop = 'first', sparse=False), [0,1,6,9,10])],\n",
    "                         remainder='passthrough')\n",
    "step2 = DecisionTreeRegressor(max_depth=8, min_samples_split=15)\n",
    "\n",
    "pipe_dt = Pipeline([('step1', step1), ('step2', step2)])\n",
    "\n",
    "pipe_dt.fit(x_train, y_train)\n",
    "\n",
    "ypred_dt = pipe_dt.predict(x_test)\n",
    "\n",
    "eval_model(y_test, ypred_dt)"
   ]
  },
  {
   "cell_type": "markdown",
   "id": "cb508161",
   "metadata": {},
   "source": [
    "## 6) RandomForest Regressor"
   ]
  },
  {
   "cell_type": "code",
   "execution_count": 61,
   "id": "1351fe1b",
   "metadata": {},
   "outputs": [
    {
     "name": "stdout",
     "output_type": "stream",
     "text": [
      "MAE 11387.353450533621\n",
      "MSE 284154451.6936889\n",
      "RMSE 16856.881434407995\n",
      "R2 Score 0.7932749897056632\n"
     ]
    }
   ],
   "source": [
    "step1 = ColumnTransformer(transformers=\n",
    "                         [('col_transf', OneHotEncoder(drop = 'first', sparse=False), [0,1,6,9,10])],\n",
    "                         remainder='passthrough')\n",
    "step2 = RandomForestRegressor(n_estimators=100,max_depth=8, min_samples_split=11, random_state=5)\n",
    "\n",
    "pipe_rf = Pipeline([('step1', step1), ('step2', step2)])\n",
    "\n",
    "pipe_rf.fit(x_train, y_train)\n",
    "\n",
    "ypred_rf = pipe_rf.predict(x_test)\n",
    "\n",
    "eval_model(y_test, ypred_rf)"
   ]
  },
  {
   "cell_type": "markdown",
   "id": "ea371dd2",
   "metadata": {},
   "source": [
    "### Inference :-\n",
    "Random Forest is the best performing model in terms of R2 Score and RMSE"
   ]
  },
  {
   "cell_type": "markdown",
   "id": "05ad481c",
   "metadata": {},
   "source": [
    "## Saving the Model and the DataFrame"
   ]
  },
  {
   "cell_type": "code",
   "execution_count": 62,
   "id": "0025ec1b",
   "metadata": {},
   "outputs": [],
   "source": [
    "import pickle"
   ]
  },
  {
   "cell_type": "code",
   "execution_count": 63,
   "id": "5d496848",
   "metadata": {},
   "outputs": [],
   "source": [
    "pickle.dump(pipe_rf, open('rf1.pkl', 'wb'))     # Saving the best performing ML model\n",
    "pickle.dump(df, open('data1.pkl', 'wb'))        # Saving the DataFrame"
   ]
  },
  {
   "cell_type": "code",
   "execution_count": 73,
   "id": "4b2bfba8",
   "metadata": {},
   "outputs": [
    {
     "data": {
      "text/plain": [
       "array([ 8, 16,  4,  2, 12,  6, 32, 24, 64], dtype=int64)"
      ]
     },
     "execution_count": 73,
     "metadata": {},
     "output_type": "execute_result"
    }
   ],
   "source": [
    "df['Ram'].unique()"
   ]
  },
  {
   "cell_type": "code",
   "execution_count": null,
   "id": "cc5c7f45",
   "metadata": {},
   "outputs": [],
   "source": []
  }
 ],
 "metadata": {
  "kernelspec": {
   "display_name": "Python 3 (ipykernel)",
   "language": "python",
   "name": "python3"
  },
  "language_info": {
   "codemirror_mode": {
    "name": "ipython",
    "version": 3
   },
   "file_extension": ".py",
   "mimetype": "text/x-python",
   "name": "python",
   "nbconvert_exporter": "python",
   "pygments_lexer": "ipython3",
   "version": "3.9.12"
  }
 },
 "nbformat": 4,
 "nbformat_minor": 5
}
